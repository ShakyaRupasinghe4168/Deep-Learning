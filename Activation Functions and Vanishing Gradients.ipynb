{
 "cells": [
  {
   "cell_type": "markdown",
   "metadata": {},
   "source": [
    "<a href=\"https://cognitiveclass.ai\"><img src=\"https://cf-courses-data.s3.us.cloud-object-storage.appdomain.cloud/IBMDeveloperSkillsNetwork-DL0101EN-SkillsNetwork/images/IDSN-logo.png\" width=\"400\"> </a>\n",
    "\n",
    "# Activation Functions and Vanishing Gradients\n",
    "\n",
    "Estimated time needed: **20** mins\n"
   ]
  },
  {
   "cell_type": "markdown",
   "metadata": {},
   "source": [
    "## Introduction\n"
   ]
  },
  {
   "cell_type": "markdown",
   "metadata": {},
   "source": [
    "In this lab, we will explore two different types of activations functions and see their corresponding derivatives or the gradients.\n"
   ]
  },
  {
   "cell_type": "markdown",
   "metadata": {},
   "source": [
    "## Objective for this notebook\n",
    "* Define sigmoid activation function and its derivative\n",
    "* Define ReLu activation function and its derivative\n",
    "* Calculate the Sigmoid and ReLU activations and their derivatives for a range of input values\n",
    "* Plot the output values\n"
   ]
  },
  {
   "cell_type": "markdown",
   "metadata": {},
   "source": [
    "# Recap\n"
   ]
  },
  {
   "cell_type": "markdown",
   "metadata": {},
   "source": [
    "From the videos, we have learnt that different activation functions have different type of characteristic output curves. And, the corresponding gradient values or their derivatives are also different. In certain cases, with higher input values, the derivative starts to reach to zero, vausing vanishing gradient problem. In this lab, we compare \"Sigmoid\" and \"ReLU\" activation functions and explore their derivatives for vanishing gradients.\n",
    "\n",
    "__Sigmoid Activation Function__\n",
    "* The sigmoid function transforms input values into a range between 0 and 1\n",
    "* Produces an \"S-shaped\" curve, making it suitable for probabilistic outputs or binary classification tasks.\n",
    "* Continuous, differentiable, and monotonically increasing across its domain (-∞, +∞).\n",
    "* Its derivative is simple to compute: σ′(z)=σ(z)⋅(1−σ(z)). This is essential for backpropagation.\n",
    "* Useful for output layers where probabilities are required (e.g., logistic regression).\n",
    "* Enables non-linear decision boundaries, allowing neural networks to learn complex relationships.\n",
    "\n",
    "  __Limitations__\n",
    "    * Suffers from the vanishing gradient problem: For large positive or negative inputs, the gradient approaches zero, slowing down learning in deep networks.\n",
    "    * Computationally expensive due to the exponential operation involved.\n",
    "\n",
    "\n",
    "__ReLU (Rectified Linear Unit) Activation Function__\n",
    "\n",
    "* ReLU outputs the maximum of zero and the input value using f(x)=max⁡(0,x)f(x)=max(0,x).\n",
    "* Non-linear but simpler than sigmoid; it outputs zero for negative inputs and the input value for positive inputs.\n",
    "* The derivative is straightforward: f′(x)=1f′(x)=1 for x>0x>0, and f′(x)=0f′(x)=0 for x≤0x≤0.\n",
    "* Mitigates the vanishing gradient problem by maintaining a constant gradient (1) for positive inputs, enabling faster convergence in deep networks.\n",
    "* Computationally efficient due to its simplicity.\n",
    "\n",
    "  __Limitations__\n",
    "\n",
    "    * Can lead to \"dead neurons,\" where neurons output zero consistently due to negative inputs. This can be mitigated using variants like Leaky ReLU.\n"
   ]
  },
  {
   "cell_type": "markdown",
   "metadata": {},
   "source": [
    "### Installing Required Libraries\n"
   ]
  },
  {
   "cell_type": "markdown",
   "metadata": {},
   "source": [
    "The following required libraries are __not__ pre-installed in the Skills Network Labs environment. __You will need to run the following cell__ to install them:\n"
   ]
  },
  {
   "cell_type": "code",
   "execution_count": null,
   "metadata": {},
   "outputs": [],
   "source": [
    "!pip install numpy==2.0.2\n",
    "!pip install matplotlib==3.9.2"
   ]
  },
  {
   "cell_type": "markdown",
   "metadata": {},
   "source": [
    "## Import required libraries\n",
    "Let's start with importing the required libraries: Numpy , for matrix calculations\n",
    "and matplotlib for visualization\n"
   ]
  },
  {
   "cell_type": "code",
   "execution_count": null,
   "metadata": {},
   "outputs": [],
   "source": [
    "import numpy as np\n",
    "import matplotlib.pyplot as plt"
   ]
  },
  {
   "cell_type": "markdown",
   "metadata": {},
   "source": [
    "#### Define the sigmoid activation function\n"
   ]
  },
  {
   "cell_type": "code",
   "execution_count": null,
   "metadata": {},
   "outputs": [],
   "source": [
    "# Sigmoid function and its derivatives\n",
    "def sigmoid(z):\n",
    "    return 1 / (1 + np.exp(-z))"
   ]
  },
  {
   "cell_type": "markdown",
   "metadata": {},
   "source": [
    "#### Define Sigmoid derivative, \"the sigmoid gradient\"\n"
   ]
  },
  {
   "cell_type": "code",
   "execution_count": null,
   "metadata": {},
   "outputs": [],
   "source": [
    "def sigmoid_derivative(z):\n",
    "    return sigmoid(z) * (1 - sigmoid(z))"
   ]
  },
  {
   "cell_type": "markdown",
   "metadata": {},
   "source": [
    "#### Define the ReLU function\n"
   ]
  },
  {
   "cell_type": "code",
   "execution_count": null,
   "metadata": {},
   "outputs": [],
   "source": [
    "def relu(z):\n",
    "    return np.maximum(0, z)"
   ]
  },
  {
   "cell_type": "markdown",
   "metadata": {},
   "source": [
    "#### Define the ReLU derivative (ReLU gradient)\n"
   ]
  },
  {
   "cell_type": "markdown",
   "metadata": {},
   "source": [
    "Let's create a function **relu_derivative** to get the output of the Relu derivative (gradient) \n",
    "The function would take a value $z$ and give the corresponding relu derivative by returning the value **1** for all $z$ greater than 0. \n"
   ]
  },
  {
   "cell_type": "code",
   "execution_count": null,
   "metadata": {},
   "outputs": [],
   "source": [
    "### type your answer here\n"
   ]
  },
  {
   "cell_type": "markdown",
   "metadata": {},
   "source": [
    "Double-click __here__ for the solution.\n",
    "<!-- The correct answer is:\n",
    "def relu_derivative(z):\n",
    "    return np.where(z > 0, 1, 0)\n",
    "-->\n"
   ]
  },
  {
   "cell_type": "markdown",
   "metadata": {},
   "source": [
    "#### Define the number of input values\n",
    "Generate 400 synthetic values between -10 and 10. The gradient would be calculated for each of these values.\n"
   ]
  },
  {
   "cell_type": "code",
   "execution_count": null,
   "metadata": {},
   "outputs": [],
   "source": [
    "# Generate a range of input values\n",
    "z = np.linspace(-10, 10, 400)"
   ]
  },
  {
   "cell_type": "markdown",
   "metadata": {},
   "source": [
    "Next, let's compute the derivatives for Sigmoid and Relu activations and assign the values to \n",
    "**sigmoid_grad** and **relu_grad** respectively \n"
   ]
  },
  {
   "cell_type": "code",
   "execution_count": null,
   "metadata": {},
   "outputs": [],
   "source": [
    "### type your answer here\n"
   ]
  },
  {
   "cell_type": "markdown",
   "metadata": {},
   "source": [
    "Double-click __here__ for the solution.\n",
    "<!-- The correct answer is:\n",
    "sigmoid_grad = sigmoid_derivative(z)\n",
    "relu_grad = relu_derivative(z)\n",
    "-->\n"
   ]
  },
  {
   "cell_type": "markdown",
   "metadata": {},
   "source": [
    "Awesome! So now, let's visualize the sigmoid and relu activations and their gradients by plotting their output values\n"
   ]
  },
  {
   "cell_type": "code",
   "execution_count": null,
   "metadata": {},
   "outputs": [],
   "source": [
    "# Plot the activation functions\n",
    "plt.figure(figsize=(12, 6))\n",
    "\n",
    "# Plot Sigmoid and its derivative\n",
    "plt.subplot(1, 2, 1)\n",
    "plt.plot(z, sigmoid(z), label='Sigmoid Activation', color='b')\n",
    "plt.plot(z, sigmoid_grad, label=\"Sigmoid Derivative\", color='r', linestyle='--')\n",
    "plt.title('Sigmoid Activation & Gradient')\n",
    "plt.xlabel('Input Value (z)')\n",
    "plt.ylabel('Activation / Gradient')\n",
    "plt.legend()\n",
    "\n",
    "# Plot ReLU and its derivative\n",
    "plt.subplot(1, 2, 2)\n",
    "plt.plot(z, relu(z), label='ReLU Activation', color='g')\n",
    "plt.plot(z, relu_grad, label=\"ReLU Derivative\", color='r', linestyle='--')\n",
    "plt.title('ReLU Activation & Gradient')\n",
    "plt.xlabel('Input Value (z)')\n",
    "plt.ylabel('Activation / Gradient')\n",
    "plt.legend()\n",
    "\n",
    "plt.tight_layout()\n",
    "plt.show()"
   ]
  },
  {
   "cell_type": "markdown",
   "metadata": {},
   "source": [
    "The above codes should help you understand the working and differences between Sigmoid and ReLU activation functions.\n"
   ]
  },
  {
   "cell_type": "markdown",
   "metadata": {},
   "source": [
    "<h3>Practice Exercise 1</h3>\n"
   ]
  },
  {
   "cell_type": "markdown",
   "metadata": {},
   "source": [
    "In this practice exercise, let's try to create the hyperbolic tangent function and it's derivative.\n"
   ]
  },
  {
   "cell_type": "code",
   "execution_count": null,
   "metadata": {},
   "outputs": [],
   "source": [
    "# Write your code here\n"
   ]
  },
  {
   "cell_type": "markdown",
   "metadata": {},
   "source": [
    "Double-click <b>here</b> for the solution.\n",
    "\n",
    "<!-- Your answer is below:\n",
    "def tanh(z):\n",
    "    return np.tanh(z)\n",
    "\n",
    "def tanh_derivative(z):\n",
    "    return 1 - np.tanh(z) ** 2\n",
    "    -->\n"
   ]
  },
  {
   "cell_type": "markdown",
   "metadata": {},
   "source": [
    "<h3>Practice Exercise 2</h3>\n"
   ]
  },
  {
   "cell_type": "markdown",
   "metadata": {},
   "source": [
    "Now, let's plot and compare the output of tanH function with the ReLU function for 100 synthetic values between -5 to 5\n"
   ]
  },
  {
   "cell_type": "code",
   "execution_count": null,
   "metadata": {},
   "outputs": [],
   "source": [
    "# Write your code here\n"
   ]
  },
  {
   "cell_type": "markdown",
   "metadata": {},
   "source": [
    "Double-click <b>here</b> for the solution.\n",
    "\n",
    "<!-- Your answer is below:\n",
    "# Generate a range of input values\n",
    "z = np.linspace(-5, 5, 100)\n",
    "\n",
    "# Get the Relu and tanH gradient values\n",
    "tanh_grad = tanh_derivative(z)\n",
    "relu_grad = relu_derivative(z)\n",
    "\n",
    "\n",
    "# Plot the activation functions\n",
    "plt.figure(figsize=(12, 6))\n",
    "\n",
    "# Plot Relu and its derivative\n",
    "plt.subplot(1, 2, 1)\n",
    "plt.plot(z, relu(z), label='ReLU Activation', color='g')\n",
    "plt.plot(z, relu_grad, label=\"ReLU Derivative\", color='r', linestyle='--')\n",
    "plt.title('ReLU Activation & Gradient')\n",
    "plt.xlabel('Input Value (z)')\n",
    "plt.ylabel('Activation / Gradient')\n",
    "plt.legend()\n",
    "\n",
    "\n",
    "# Plot tanH and its derivative\n",
    "plt.subplot(1, 2, 2)\n",
    "plt.plot(z, tanh(z), label='tanH Activation', color='g')\n",
    "plt.plot(z, tanh_grad, label=\"tanH Derivative\", color='r', linestyle='--')\n",
    "plt.title('tanH Activation & Gradient')\n",
    "plt.xlabel('Input Value (z)')\n",
    "plt.ylabel('Activation / Gradient')\n",
    "plt.legend()\n",
    "\n",
    "plt.tight_layout()\n",
    "plt.show()\n",
    "\n",
    "-->\n"
   ]
  },
  {
   "cell_type": "markdown",
   "metadata": {},
   "source": [
    "### Thank you for completing this lab!\n",
    "\n",
    "This notebook was created by [Aman Aggarwal](https://www.linkedin.com/in/aggarwal-aman/). I hope you found this lab interesting and educational. Feel free to contact me if you have any questions!\n"
   ]
  },
  {
   "cell_type": "markdown",
   "metadata": {},
   "source": [
    "<!--\n",
    "## Change Log\n",
    "\n",
    "|  Date (YYYY-MM-DD) |  Version | Changed By  |  Change Description |\n",
    "|---|---|---|---|\n",
    "| 2024-11-20  | 3.0  | Aman  |  Created the lab |\n",
    "<hr>\n",
    "\n",
    "## <h3 align=\"center\"> © IBM Corporation. All rights reserved. <h3/>\n"
   ]
  },
  {
   "cell_type": "markdown",
   "metadata": {},
   "source": [
    "## <h3 align=\"center\"> &#169; IBM Corporation. All rights reserved. <h3/>\n"
   ]
  }
 ],
 "metadata": {
  "kernelspec": {
   "display_name": "Python 3 (ipykernel)",
   "language": "python",
   "name": "python3"
  },
  "language_info": {
   "codemirror_mode": {
    "name": "ipython",
    "version": 3
   },
   "file_extension": ".py",
   "mimetype": "text/x-python",
   "name": "python",
   "nbconvert_exporter": "python",
   "pygments_lexer": "ipython3",
   "version": "3.12.8"
  },
  "prev_pub_hash": "13852ef972b5a871226737880e643e80366d77f56daacccee4788d47850f268b"
 },
 "nbformat": 4,
 "nbformat_minor": 4
}
